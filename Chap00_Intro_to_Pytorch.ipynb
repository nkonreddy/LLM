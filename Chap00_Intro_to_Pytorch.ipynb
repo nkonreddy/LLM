{
  "nbformat": 4,
  "nbformat_minor": 0,
  "metadata": {
    "colab": {
      "provenance": [],
      "include_colab_link": true
    },
    "kernelspec": {
      "name": "python3",
      "display_name": "Python 3"
    },
    "language_info": {
      "name": "python"
    }
  },
  "cells": [
    {
      "cell_type": "markdown",
      "metadata": {
        "id": "view-in-github",
        "colab_type": "text"
      },
      "source": [
        "<a href=\"https://colab.research.google.com/github/nkonreddy/LLM/blob/main/Chap00_Intro_to_Pytorch.ipynb\" target=\"_parent\"><img src=\"https://colab.research.google.com/assets/colab-badge.svg\" alt=\"Open In Colab\"/></a>"
      ]
    },
    {
      "cell_type": "markdown",
      "source": [
        "# Setup"
      ],
      "metadata": {
        "id": "AaFq2XuWjPsy"
      }
    },
    {
      "cell_type": "code",
      "execution_count": null,
      "metadata": {
        "colab": {
          "base_uri": "https://localhost:8080/"
        },
        "id": "5N7R_gY9fa8R",
        "outputId": "10c7f384-57c6-412c-a725-09bcd8a6cbbe"
      },
      "outputs": [
        {
          "output_type": "stream",
          "name": "stdout",
          "text": [
            "\u001b[2K   \u001b[90m━━━━━━━━━━━━━━━━━━━━━━━━━━━━━━━━━━━━━━━━\u001b[0m \u001b[32m797.2/797.2 MB\u001b[0m \u001b[31m2.5 MB/s\u001b[0m eta \u001b[36m0:00:00\u001b[0m\n",
            "\u001b[2K   \u001b[90m━━━━━━━━━━━━━━━━━━━━━━━━━━━━━━━━━━━━━━━━\u001b[0m \u001b[32m410.6/410.6 MB\u001b[0m \u001b[31m4.1 MB/s\u001b[0m eta \u001b[36m0:00:00\u001b[0m\n",
            "\u001b[2K   \u001b[90m━━━━━━━━━━━━━━━━━━━━━━━━━━━━━━━━━━━━━━━━\u001b[0m \u001b[32m14.1/14.1 MB\u001b[0m \u001b[31m90.7 MB/s\u001b[0m eta \u001b[36m0:00:00\u001b[0m\n",
            "\u001b[2K   \u001b[90m━━━━━━━━━━━━━━━━━━━━━━━━━━━━━━━━━━━━━━━━\u001b[0m \u001b[32m23.7/23.7 MB\u001b[0m \u001b[31m68.8 MB/s\u001b[0m eta \u001b[36m0:00:00\u001b[0m\n",
            "\u001b[2K   \u001b[90m━━━━━━━━━━━━━━━━━━━━━━━━━━━━━━━━━━━━━━━━\u001b[0m \u001b[32m823.6/823.6 kB\u001b[0m \u001b[31m34.5 MB/s\u001b[0m eta \u001b[36m0:00:00\u001b[0m\n",
            "\u001b[2K   \u001b[90m━━━━━━━━━━━━━━━━━━━━━━━━━━━━━━━━━━━━━━━━\u001b[0m \u001b[32m664.8/664.8 MB\u001b[0m \u001b[31m1.3 MB/s\u001b[0m eta \u001b[36m0:00:00\u001b[0m\n",
            "\u001b[2K   \u001b[90m━━━━━━━━━━━━━━━━━━━━━━━━━━━━━━━━━━━━━━━━\u001b[0m \u001b[32m121.6/121.6 MB\u001b[0m \u001b[31m7.5 MB/s\u001b[0m eta \u001b[36m0:00:00\u001b[0m\n",
            "\u001b[2K   \u001b[90m━━━━━━━━━━━━━━━━━━━━━━━━━━━━━━━━━━━━━━━━\u001b[0m \u001b[32m56.5/56.5 MB\u001b[0m \u001b[31m9.9 MB/s\u001b[0m eta \u001b[36m0:00:00\u001b[0m\n",
            "\u001b[2K   \u001b[90m━━━━━━━━━━━━━━━━━━━━━━━━━━━━━━━━━━━━━━━━\u001b[0m \u001b[32m124.2/124.2 MB\u001b[0m \u001b[31m8.0 MB/s\u001b[0m eta \u001b[36m0:00:00\u001b[0m\n",
            "\u001b[2K   \u001b[90m━━━━━━━━━━━━━━━━━━━━━━━━━━━━━━━━━━━━━━━━\u001b[0m \u001b[32m196.0/196.0 MB\u001b[0m \u001b[31m6.8 MB/s\u001b[0m eta \u001b[36m0:00:00\u001b[0m\n",
            "\u001b[2K   \u001b[90m━━━━━━━━━━━━━━━━━━━━━━━━━━━━━━━━━━━━━━━━\u001b[0m \u001b[32m176.2/176.2 MB\u001b[0m \u001b[31m6.3 MB/s\u001b[0m eta \u001b[36m0:00:00\u001b[0m\n",
            "\u001b[2K   \u001b[90m━━━━━━━━━━━━━━━━━━━━━━━━━━━━━━━━━━━━━━━━\u001b[0m \u001b[32m99.1/99.1 kB\u001b[0m \u001b[31m7.6 MB/s\u001b[0m eta \u001b[36m0:00:00\u001b[0m\n",
            "\u001b[2K   \u001b[90m━━━━━━━━━━━━━━━━━━━━━━━━━━━━━━━━━━━━━━━━\u001b[0m \u001b[32m209.4/209.4 MB\u001b[0m \u001b[31m4.6 MB/s\u001b[0m eta \u001b[36m0:00:00\u001b[0m\n",
            "\u001b[?25h\u001b[31mERROR: pip's dependency resolver does not currently take into account all the packages that are installed. This behaviour is the source of the following dependency conflicts.\n",
            "torchaudio 2.5.1+cu121 requires torch==2.5.1, but you have torch 2.4.0 which is incompatible.\n",
            "torchvision 0.20.1+cu121 requires torch==2.5.1, but you have torch 2.4.0 which is incompatible.\u001b[0m\u001b[31m\n",
            "\u001b[0m"
          ]
        }
      ],
      "source": [
        "!pip install -qq torch==2.4.0"
      ]
    },
    {
      "cell_type": "code",
      "source": [
        "import torch\n",
        "torch.__version__"
      ],
      "metadata": {
        "colab": {
          "base_uri": "https://localhost:8080/",
          "height": 35
        },
        "id": "g-6LpJ48jU9R",
        "outputId": "b22a38ee-161e-4ba6-dc97-65312ee173a3"
      },
      "execution_count": null,
      "outputs": [
        {
          "output_type": "execute_result",
          "data": {
            "text/plain": [
              "'2.4.0+cu121'"
            ],
            "application/vnd.google.colaboratory.intrinsic+json": {
              "type": "string"
            }
          },
          "metadata": {},
          "execution_count": 2
        }
      ]
    },
    {
      "cell_type": "code",
      "source": [
        "torch.cuda.is_available()"
      ],
      "metadata": {
        "colab": {
          "base_uri": "https://localhost:8080/"
        },
        "id": "Sdv8gykSjiBL",
        "outputId": "8f6a6918-7cf2-4e40-f2c1-2535497f77cf"
      },
      "execution_count": null,
      "outputs": [
        {
          "output_type": "execute_result",
          "data": {
            "text/plain": [
              "False"
            ]
          },
          "metadata": {},
          "execution_count": 3
        }
      ]
    },
    {
      "cell_type": "markdown",
      "source": [
        "# Tensors"
      ],
      "metadata": {
        "id": "IrYyVTgFkHTh"
      }
    },
    {
      "cell_type": "markdown",
      "source": [
        "## Dimensions"
      ],
      "metadata": {
        "id": "SniDJ6wLkJH7"
      }
    },
    {
      "cell_type": "markdown",
      "source": [
        "<img src=\"https://sebastianraschka.com/images/LLMs-from-scratch-images/appendix-a_compressed/6.webp\" width=\"400px\">"
      ],
      "metadata": {
        "id": "fnQp8cN3SG-v"
      }
    },
    {
      "cell_type": "code",
      "source": [
        "tensor0d = torch.tensor(2)\n",
        "tensor0d"
      ],
      "metadata": {
        "colab": {
          "base_uri": "https://localhost:8080/"
        },
        "id": "AXlU71epjoLh",
        "outputId": "75d45b67-8ab3-4914-aebc-98eedba63471"
      },
      "execution_count": null,
      "outputs": [
        {
          "output_type": "execute_result",
          "data": {
            "text/plain": [
              "tensor(1)"
            ]
          },
          "metadata": {},
          "execution_count": 4
        }
      ]
    },
    {
      "cell_type": "code",
      "source": [
        "tensor1d = torch.tensor([3, 1, 3])\n",
        "tensor1d"
      ],
      "metadata": {
        "colab": {
          "base_uri": "https://localhost:8080/"
        },
        "id": "D4BnpZrhkTxF",
        "outputId": "5ea7c857-3b08-42ff-de24-b3aa4601a8bb"
      },
      "execution_count": null,
      "outputs": [
        {
          "output_type": "execute_result",
          "data": {
            "text/plain": [
              "tensor([3, 1, 3])"
            ]
          },
          "metadata": {},
          "execution_count": 70
        }
      ]
    },
    {
      "cell_type": "code",
      "source": [
        "tensor2d = torch.tensor([[3,5,1,2], [1, 7, 2, 3], [3, 3, 4, 9]])\n",
        "tensor2d"
      ],
      "metadata": {
        "colab": {
          "base_uri": "https://localhost:8080/"
        },
        "id": "d3e2P3-dSTgX",
        "outputId": "29739dd1-3ec9-4907-9a34-4fb3a019f5a1"
      },
      "execution_count": null,
      "outputs": [
        {
          "output_type": "execute_result",
          "data": {
            "text/plain": [
              "tensor([[3, 5, 1, 2],\n",
              "        [1, 7, 2, 3],\n",
              "        [3, 3, 4, 9]])"
            ]
          },
          "metadata": {},
          "execution_count": 69
        }
      ]
    },
    {
      "cell_type": "code",
      "source": [
        "tensor2d = torch.tensor([[1, 2, 3], [4, 5, 6]])\n",
        "tensor2d"
      ],
      "metadata": {
        "colab": {
          "base_uri": "https://localhost:8080/"
        },
        "id": "gJvbIfGbkXNB",
        "outputId": "d3788c8f-0360-44fd-9b70-107166d84909"
      },
      "execution_count": null,
      "outputs": [
        {
          "output_type": "execute_result",
          "data": {
            "text/plain": [
              "tensor([[1, 2, 3],\n",
              "        [4, 5, 6]])"
            ]
          },
          "metadata": {},
          "execution_count": 6
        }
      ]
    },
    {
      "cell_type": "code",
      "source": [
        "tensor3d = torch.tensor([\n",
        "                            [[1, 2, 3], [4, 5, 6]],\n",
        "                            [[1, 2, 3], [4, 5, 6]],\n",
        "                            [[11, 12, 13], [14, 15, 16]],\n",
        "                            [[17, 18, 19], [20, 21, 22]]\n",
        "                        ])\n",
        "tensor3d"
      ],
      "metadata": {
        "colab": {
          "base_uri": "https://localhost:8080/"
        },
        "id": "GVlpdRjakZjE",
        "outputId": "f16b18a0-c379-44f5-e0e2-7251651e4ad2"
      },
      "execution_count": null,
      "outputs": [
        {
          "output_type": "execute_result",
          "data": {
            "text/plain": [
              "tensor([[[ 1,  2,  3],\n",
              "         [ 4,  5,  6]],\n",
              "\n",
              "        [[ 1,  2,  3],\n",
              "         [ 4,  5,  6]],\n",
              "\n",
              "        [[11, 12, 13],\n",
              "         [14, 15, 16]],\n",
              "\n",
              "        [[17, 18, 19],\n",
              "         [20, 21, 22]]])"
            ]
          },
          "metadata": {},
          "execution_count": 71
        }
      ]
    },
    {
      "cell_type": "markdown",
      "source": [
        "## Dtype"
      ],
      "metadata": {
        "id": "JLn1Jca6k54i"
      }
    },
    {
      "cell_type": "code",
      "source": [
        "tensor2d.dtype"
      ],
      "metadata": {
        "colab": {
          "base_uri": "https://localhost:8080/"
        },
        "id": "7lkgJcR2keXC",
        "outputId": "5fc6dfb4-b04a-43b4-fe21-a8e5c735d046"
      },
      "execution_count": null,
      "outputs": [
        {
          "output_type": "execute_result",
          "data": {
            "text/plain": [
              "torch.int64"
            ]
          },
          "metadata": {},
          "execution_count": 8
        }
      ]
    },
    {
      "cell_type": "code",
      "source": [
        "tensorfloat = torch.tensor([1.0, 2.0, 3.0])\n",
        "tensorfloat.dtype"
      ],
      "metadata": {
        "colab": {
          "base_uri": "https://localhost:8080/"
        },
        "id": "RlaNNatPkyPn",
        "outputId": "ee08aa31-2d9f-458e-8df8-a1227b64640e"
      },
      "execution_count": null,
      "outputs": [
        {
          "output_type": "execute_result",
          "data": {
            "text/plain": [
              "torch.float32"
            ]
          },
          "metadata": {},
          "execution_count": 9
        }
      ]
    },
    {
      "cell_type": "code",
      "source": [
        "tensorfloat64 = torch.tensor([1.0, 2.0, 3.0], dtype=torch.float64)\n",
        "tensorfloat64.dtype"
      ],
      "metadata": {
        "colab": {
          "base_uri": "https://localhost:8080/"
        },
        "id": "p7kO2pNUlDDC",
        "outputId": "94d2fdde-d362-4308-d0cc-f452793ff518"
      },
      "execution_count": null,
      "outputs": [
        {
          "output_type": "execute_result",
          "data": {
            "text/plain": [
              "torch.float64"
            ]
          },
          "metadata": {},
          "execution_count": 10
        }
      ]
    },
    {
      "cell_type": "code",
      "source": [
        "tensorfloat64.to(torch.float16)"
      ],
      "metadata": {
        "colab": {
          "base_uri": "https://localhost:8080/"
        },
        "id": "9eMRTfB6lQa0",
        "outputId": "b245aaf4-feb3-4d07-ff34-2afd609d2153"
      },
      "execution_count": null,
      "outputs": [
        {
          "output_type": "execute_result",
          "data": {
            "text/plain": [
              "tensor([1., 2., 3.], dtype=torch.float16)"
            ]
          },
          "metadata": {},
          "execution_count": 11
        }
      ]
    },
    {
      "cell_type": "markdown",
      "source": [
        "## Operations"
      ],
      "metadata": {
        "id": "lbtoT1lXnBaL"
      }
    },
    {
      "cell_type": "markdown",
      "source": [
        "### Shape"
      ],
      "metadata": {
        "id": "4-e8GCBHnJbR"
      }
    },
    {
      "cell_type": "code",
      "source": [
        "tensor0d.shape"
      ],
      "metadata": {
        "colab": {
          "base_uri": "https://localhost:8080/"
        },
        "id": "aWVtdbM2mSKo",
        "outputId": "811aeade-11ae-45fe-d6db-1f170c3eac21"
      },
      "execution_count": null,
      "outputs": [
        {
          "output_type": "execute_result",
          "data": {
            "text/plain": [
              "torch.Size([])"
            ]
          },
          "metadata": {},
          "execution_count": 12
        }
      ]
    },
    {
      "cell_type": "code",
      "source": [
        "tensor1d.shape"
      ],
      "metadata": {
        "colab": {
          "base_uri": "https://localhost:8080/"
        },
        "id": "7C4qeY0jnORN",
        "outputId": "3c0b3dfb-1d3c-40d5-e513-f36c0c697e00"
      },
      "execution_count": null,
      "outputs": [
        {
          "output_type": "execute_result",
          "data": {
            "text/plain": [
              "torch.Size([3])"
            ]
          },
          "metadata": {},
          "execution_count": 13
        }
      ]
    },
    {
      "cell_type": "code",
      "source": [
        "tensor2d.shape"
      ],
      "metadata": {
        "colab": {
          "base_uri": "https://localhost:8080/"
        },
        "id": "aNCOcTg6nTjn",
        "outputId": "810758c4-4022-450a-a3c1-5727f7a3cc8e"
      },
      "execution_count": null,
      "outputs": [
        {
          "output_type": "execute_result",
          "data": {
            "text/plain": [
              "torch.Size([2, 3])"
            ]
          },
          "metadata": {},
          "execution_count": 14
        }
      ]
    },
    {
      "cell_type": "code",
      "source": [
        "tensor3d.shape"
      ],
      "metadata": {
        "colab": {
          "base_uri": "https://localhost:8080/"
        },
        "id": "5j1HnNuTnUei",
        "outputId": "8bc89951-4f17-4950-867c-07f6799e4d18"
      },
      "execution_count": null,
      "outputs": [
        {
          "output_type": "execute_result",
          "data": {
            "text/plain": [
              "torch.Size([4, 2, 3])"
            ]
          },
          "metadata": {},
          "execution_count": 15
        }
      ]
    },
    {
      "cell_type": "markdown",
      "source": [
        "### Reshape"
      ],
      "metadata": {
        "id": "lm1zLnTsn262"
      }
    },
    {
      "cell_type": "code",
      "source": [
        "tensor2d.shape"
      ],
      "metadata": {
        "colab": {
          "base_uri": "https://localhost:8080/"
        },
        "id": "00-eqDAFnXCx",
        "outputId": "de6a60d0-9fc6-48f4-c2fc-4bf242e92639"
      },
      "execution_count": null,
      "outputs": [
        {
          "output_type": "execute_result",
          "data": {
            "text/plain": [
              "torch.Size([2, 3])"
            ]
          },
          "metadata": {},
          "execution_count": 16
        }
      ]
    },
    {
      "cell_type": "code",
      "source": [
        "print(tensor2d)"
      ],
      "metadata": {
        "colab": {
          "base_uri": "https://localhost:8080/"
        },
        "id": "WMsARmt4n9Y7",
        "outputId": "c762bd6f-1968-4f38-98a0-7415ed9d3ff4"
      },
      "execution_count": null,
      "outputs": [
        {
          "output_type": "stream",
          "name": "stdout",
          "text": [
            "tensor([[1, 2, 3],\n",
            "        [4, 5, 6]])\n"
          ]
        }
      ]
    },
    {
      "cell_type": "code",
      "source": [
        "tensor2dmod = tensor2d.reshape(3,2)\n",
        "tensor2dmod.shape"
      ],
      "metadata": {
        "colab": {
          "base_uri": "https://localhost:8080/"
        },
        "id": "Eo9T8XbWoCaP",
        "outputId": "72d8ea7a-51ed-4696-de6b-60733dd9f5d6"
      },
      "execution_count": null,
      "outputs": [
        {
          "output_type": "execute_result",
          "data": {
            "text/plain": [
              "torch.Size([3, 2])"
            ]
          },
          "metadata": {},
          "execution_count": 18
        }
      ]
    },
    {
      "cell_type": "code",
      "source": [
        "print(tensor2dmod)"
      ],
      "metadata": {
        "colab": {
          "base_uri": "https://localhost:8080/"
        },
        "id": "4sCvdMIwoLqG",
        "outputId": "19825d25-73ea-44e3-c588-6b76ba97120f"
      },
      "execution_count": null,
      "outputs": [
        {
          "output_type": "stream",
          "name": "stdout",
          "text": [
            "tensor([[1, 2],\n",
            "        [3, 4],\n",
            "        [5, 6]])\n"
          ]
        }
      ]
    },
    {
      "cell_type": "markdown",
      "source": [
        "### View"
      ],
      "metadata": {
        "id": "YScq8OJyogj0"
      }
    },
    {
      "cell_type": "code",
      "source": [
        "tensor2d.view([2,3])"
      ],
      "metadata": {
        "colab": {
          "base_uri": "https://localhost:8080/"
        },
        "id": "YmnyUQmXoWKA",
        "outputId": "c365e3a2-ff2e-410c-82ed-f6acb1f72187"
      },
      "execution_count": null,
      "outputs": [
        {
          "output_type": "execute_result",
          "data": {
            "text/plain": [
              "tensor([[1, 2, 3],\n",
              "        [4, 5, 6]])"
            ]
          },
          "metadata": {},
          "execution_count": 20
        }
      ]
    },
    {
      "cell_type": "code",
      "source": [
        "tensor2d.view([3,2])"
      ],
      "metadata": {
        "colab": {
          "base_uri": "https://localhost:8080/"
        },
        "id": "LzuN43Plo_Dj",
        "outputId": "756426b0-8b3d-468d-cfd9-41498643150f"
      },
      "execution_count": null,
      "outputs": [
        {
          "output_type": "execute_result",
          "data": {
            "text/plain": [
              "tensor([[1, 2],\n",
              "        [3, 4],\n",
              "        [5, 6]])"
            ]
          },
          "metadata": {},
          "execution_count": 21
        }
      ]
    },
    {
      "cell_type": "code",
      "source": [
        "import torch\n",
        "\n",
        "x = torch.randn(2, 4, 8)\n",
        "print(x)\n",
        "z = x[:, ::2, :4]\n",
        "print(z)\n",
        "try:\n",
        "    z.view(-1)\n",
        "except RuntimeError as e:\n",
        "    print(e)"
      ],
      "metadata": {
        "colab": {
          "base_uri": "https://localhost:8080/"
        },
        "id": "fsZjNVFDQPc5",
        "outputId": "495898a1-b436-406c-a301-870539226e52"
      },
      "execution_count": null,
      "outputs": [
        {
          "output_type": "stream",
          "name": "stdout",
          "text": [
            "tensor([[[-1.1783,  0.9491, -1.2084,  0.3899, -2.1687, -0.3752,  0.3077,\n",
            "           1.5953],\n",
            "         [-0.7747,  0.0223, -0.8280,  0.6586, -0.6978,  1.0346,  0.9350,\n",
            "          -0.4206],\n",
            "         [ 0.9525,  0.5167,  0.6550, -0.4758, -1.3071,  1.2405,  0.2837,\n",
            "          -0.4108],\n",
            "         [ 0.9740,  0.6944, -1.3363,  0.4708, -1.4802,  0.8807, -0.8606,\n",
            "          -0.8628]],\n",
            "\n",
            "        [[ 2.1550, -0.2373, -0.5731, -0.3742, -0.5123,  2.4566,  0.7939,\n",
            "          -0.2927],\n",
            "         [-0.3534,  0.2462,  0.3657,  0.4103, -0.1639, -1.9083, -0.4377,\n",
            "          -1.1254],\n",
            "         [-0.6756,  0.5493, -0.1976, -0.5780,  0.4622,  0.2773,  0.5538,\n",
            "          -0.9195],\n",
            "         [-0.1972,  0.5253, -1.0295, -0.4545,  0.0807,  0.7435, -0.7228,\n",
            "          -0.6517]]])\n",
            "tensor([[[-1.1783,  0.9491, -1.2084,  0.3899],\n",
            "         [ 0.9525,  0.5167,  0.6550, -0.4758]],\n",
            "\n",
            "        [[ 2.1550, -0.2373, -0.5731, -0.3742],\n",
            "         [-0.6756,  0.5493, -0.1976, -0.5780]]])\n",
            "view size is not compatible with input tensor's size and stride (at least one dimension spans across two contiguous subspaces). Use .reshape(...) instead.\n"
          ]
        }
      ]
    },
    {
      "cell_type": "markdown",
      "source": [
        "### Transpose"
      ],
      "metadata": {
        "id": "za3Gq7UZpg0s"
      }
    },
    {
      "cell_type": "code",
      "source": [
        "tensor2d"
      ],
      "metadata": {
        "colab": {
          "base_uri": "https://localhost:8080/"
        },
        "id": "SX4ya8adpGyQ",
        "outputId": "80f31a99-b983-4632-ed35-cbb6e460da5b"
      },
      "execution_count": null,
      "outputs": [
        {
          "output_type": "execute_result",
          "data": {
            "text/plain": [
              "tensor([[1, 2, 3],\n",
              "        [4, 5, 6]])"
            ]
          },
          "metadata": {},
          "execution_count": 23
        }
      ]
    },
    {
      "cell_type": "code",
      "source": [
        "tensor2d.T"
      ],
      "metadata": {
        "colab": {
          "base_uri": "https://localhost:8080/"
        },
        "id": "1vU8phPwp57b",
        "outputId": "1af828d3-212b-4645-d2ba-2e82d7b302cf"
      },
      "execution_count": null,
      "outputs": [
        {
          "output_type": "execute_result",
          "data": {
            "text/plain": [
              "tensor([[1, 4],\n",
              "        [2, 5],\n",
              "        [3, 6]])"
            ]
          },
          "metadata": {},
          "execution_count": 24
        }
      ]
    },
    {
      "cell_type": "markdown",
      "source": [
        "### Unsqueeze"
      ],
      "metadata": {
        "id": "nB2SqREcrmfH"
      }
    },
    {
      "cell_type": "code",
      "source": [
        "# create two dimensional tensor\n",
        "a = torch.tensor([[2,3], [1,2]])\n",
        "print(a)\n",
        "a.dtype"
      ],
      "metadata": {
        "colab": {
          "base_uri": "https://localhost:8080/"
        },
        "id": "_mw4AF64rpOk",
        "outputId": "0f3b271b-9edd-4878-d9f2-b642d14ba249"
      },
      "execution_count": null,
      "outputs": [
        {
          "output_type": "stream",
          "name": "stdout",
          "text": [
            "tensor([[2, 3],\n",
            "        [1, 2]])\n"
          ]
        },
        {
          "output_type": "execute_result",
          "data": {
            "text/plain": [
              "torch.int64"
            ]
          },
          "metadata": {},
          "execution_count": 25
        }
      ]
    },
    {
      "cell_type": "code",
      "source": [
        "a = torch.Tensor([[2,3], [1,2]])\n",
        "print(a)\n",
        "a.dtype"
      ],
      "metadata": {
        "colab": {
          "base_uri": "https://localhost:8080/"
        },
        "id": "sUxskFfsrpHA",
        "outputId": "da8d7530-4227-41c1-8c01-8d297d504576"
      },
      "execution_count": null,
      "outputs": [
        {
          "output_type": "stream",
          "name": "stdout",
          "text": [
            "tensor([[2., 3.],\n",
            "        [1., 2.]])\n"
          ]
        },
        {
          "output_type": "execute_result",
          "data": {
            "text/plain": [
              "torch.float32"
            ]
          },
          "metadata": {},
          "execution_count": 26
        }
      ]
    },
    {
      "cell_type": "code",
      "source": [
        "# insert Unsqueeze"
      ],
      "metadata": {
        "id": "ZXcBTJm0Ren0"
      },
      "execution_count": null,
      "outputs": []
    },
    {
      "cell_type": "markdown",
      "source": [
        "### MatMul"
      ],
      "metadata": {
        "id": "BWT1zKWJq8Fa"
      }
    },
    {
      "cell_type": "code",
      "source": [
        "tensor2d.matmul(tensor2d.T)"
      ],
      "metadata": {
        "colab": {
          "base_uri": "https://localhost:8080/"
        },
        "id": "3NcImxj9p-DU",
        "outputId": "30ed6cbe-492f-4faf-e995-e1307d7de136"
      },
      "execution_count": null,
      "outputs": [
        {
          "output_type": "execute_result",
          "data": {
            "text/plain": [
              "tensor([[14, 32],\n",
              "        [32, 77]])"
            ]
          },
          "metadata": {},
          "execution_count": 28
        }
      ]
    },
    {
      "cell_type": "code",
      "source": [
        "tensor2d @ tensor2d.T   # short hand notation"
      ],
      "metadata": {
        "colab": {
          "base_uri": "https://localhost:8080/"
        },
        "id": "OcOB4HXnR1HQ",
        "outputId": "6893769a-80bd-4832-f1c6-c633223152d7"
      },
      "execution_count": null,
      "outputs": [
        {
          "output_type": "execute_result",
          "data": {
            "text/plain": [
              "tensor([[14, 32],\n",
              "        [32, 77]])"
            ]
          },
          "metadata": {},
          "execution_count": 29
        }
      ]
    },
    {
      "cell_type": "markdown",
      "source": [
        "# Differentiation Engine"
      ],
      "metadata": {
        "id": "OH6GXVB5yO0x"
      }
    },
    {
      "cell_type": "markdown",
      "source": [
        "https://pytorch.org/tutorials/beginner/blitz/autograd_tutorial.html"
      ],
      "metadata": {
        "id": "xi1Yxk7qAM3p"
      }
    },
    {
      "cell_type": "markdown",
      "source": [
        "## Forward Pass"
      ],
      "metadata": {
        "id": "0Fr321wjAU5v"
      }
    },
    {
      "cell_type": "code",
      "source": [
        "import torch.nn.functional as F\n",
        "\n",
        "y = torch.Tensor([1])\n",
        "x1 = torch.Tensor([1.1])\n",
        "w1 = torch.Tensor([2.2])\n",
        "b = torch.Tensor([0])\n",
        "z = x1 * w1 + b\n",
        "print(z)"
      ],
      "metadata": {
        "colab": {
          "base_uri": "https://localhost:8080/"
        },
        "id": "Rn0IVpCCw47k",
        "outputId": "5f0079b0-1277-4ba8-aa2d-ce3b2c0e8e79"
      },
      "execution_count": null,
      "outputs": [
        {
          "output_type": "stream",
          "name": "stdout",
          "text": [
            "tensor([2.4200])\n"
          ]
        }
      ]
    },
    {
      "cell_type": "markdown",
      "source": [
        "<img src=\"https://sebastianraschka.com/images/LLMs-from-scratch-images/appendix-a_compressed/7.webp\" width=\"600px\">"
      ],
      "metadata": {
        "id": "m-l_9V6nS9ZU"
      }
    },
    {
      "cell_type": "code",
      "source": [
        "a = torch.sigmoid(z)\n",
        "print(a)"
      ],
      "metadata": {
        "colab": {
          "base_uri": "https://localhost:8080/"
        },
        "id": "Gwm_Qe57z-u9",
        "outputId": "09d3fa2a-0f66-4be5-b1d2-dae24d99456b"
      },
      "execution_count": null,
      "outputs": [
        {
          "output_type": "stream",
          "name": "stdout",
          "text": [
            "tensor([0.9183])\n"
          ]
        }
      ]
    },
    {
      "cell_type": "code",
      "source": [
        "loss = F.binary_cross_entropy(a, y)\n",
        "print(loss)"
      ],
      "metadata": {
        "colab": {
          "base_uri": "https://localhost:8080/"
        },
        "id": "S_tWDlzm0EbK",
        "outputId": "9e6b9cee-23f5-40dc-81d7-12a709642a0b"
      },
      "execution_count": null,
      "outputs": [
        {
          "output_type": "stream",
          "name": "stdout",
          "text": [
            "tensor(0.0852)\n"
          ]
        }
      ]
    },
    {
      "cell_type": "markdown",
      "source": [
        "## Calculate Gradient"
      ],
      "metadata": {
        "id": "lcTONWNXAXiF"
      }
    },
    {
      "cell_type": "code",
      "source": [
        "import torch.nn.functional as F\n",
        "from torch.autograd import grad\n",
        "\n",
        "y = torch.tensor([1.0])\n",
        "x1 = torch.tensor([1.1])\n",
        "w1 = torch.tensor([2.2], requires_grad=True)\n",
        "b = torch.tensor([0.0], requires_grad=True)\n",
        "z = x1 * w1 + b\n",
        "print(z)"
      ],
      "metadata": {
        "colab": {
          "base_uri": "https://localhost:8080/"
        },
        "id": "szcu-XL21DGu",
        "outputId": "d2902863-6abc-4f6d-f787-a0f9f88af071"
      },
      "execution_count": null,
      "outputs": [
        {
          "output_type": "stream",
          "name": "stdout",
          "text": [
            "tensor([2.4200], grad_fn=<AddBackward0>)\n"
          ]
        }
      ]
    },
    {
      "cell_type": "code",
      "source": [
        "a = torch.sigmoid(z)\n",
        "print(a)\n",
        "loss = F.binary_cross_entropy(a, y)\n",
        "print(loss)"
      ],
      "metadata": {
        "colab": {
          "base_uri": "https://localhost:8080/"
        },
        "id": "cB1N7YSCBfhv",
        "outputId": "61048a20-bfad-4475-eb0e-8915b8a03c4d"
      },
      "execution_count": null,
      "outputs": [
        {
          "output_type": "stream",
          "name": "stdout",
          "text": [
            "tensor([0.9183], grad_fn=<SigmoidBackward0>)\n",
            "tensor(0.0852, grad_fn=<BinaryCrossEntropyBackward0>)\n"
          ]
        }
      ]
    },
    {
      "cell_type": "markdown",
      "source": [
        "<img src=\"https://sebastianraschka.com/images/LLMs-from-scratch-images/appendix-a_compressed/8.webp\" width=\"600px\">"
      ],
      "metadata": {
        "id": "CpvNgJLLTMdi"
      }
    },
    {
      "cell_type": "code",
      "source": [
        "grad_l_w1 = grad(loss, w1, retain_graph=True) # retain it, otherwise it is deleted.\n",
        "print(grad_l_w1)"
      ],
      "metadata": {
        "colab": {
          "base_uri": "https://localhost:8080/"
        },
        "id": "3Eh7I46TAykc",
        "outputId": "b7851c1d-868a-424e-e89c-3d9d0d5a80c4"
      },
      "execution_count": null,
      "outputs": [
        {
          "output_type": "stream",
          "name": "stdout",
          "text": [
            "(tensor([-0.0898]),)\n"
          ]
        }
      ]
    },
    {
      "cell_type": "code",
      "source": [
        "grad_l_b = grad(loss, b, retain_graph=True)\n",
        "print(grad_l_b)"
      ],
      "metadata": {
        "colab": {
          "base_uri": "https://localhost:8080/"
        },
        "id": "q17RZuFnBMIk",
        "outputId": "abcdf8a1-04a2-4892-ff38-68b7bba565e7"
      },
      "execution_count": null,
      "outputs": [
        {
          "output_type": "stream",
          "name": "stdout",
          "text": [
            "(tensor([-0.0817]),)\n"
          ]
        }
      ]
    },
    {
      "cell_type": "code",
      "source": [
        "loss.backward()\n",
        "w1.grad"
      ],
      "metadata": {
        "colab": {
          "base_uri": "https://localhost:8080/"
        },
        "id": "u-JNA-TcByH3",
        "outputId": "a8e7bfde-9f33-4cdf-a145-05b399325509"
      },
      "execution_count": null,
      "outputs": [
        {
          "output_type": "execute_result",
          "data": {
            "text/plain": [
              "tensor([-0.0898])"
            ]
          },
          "metadata": {},
          "execution_count": 37
        }
      ]
    },
    {
      "cell_type": "code",
      "source": [
        "b.grad"
      ],
      "metadata": {
        "colab": {
          "base_uri": "https://localhost:8080/"
        },
        "id": "ZctRBnMYB_bI",
        "outputId": "06f66e7c-af7a-4f0c-dda5-41c8c28223e4"
      },
      "execution_count": null,
      "outputs": [
        {
          "output_type": "execute_result",
          "data": {
            "text/plain": [
              "tensor([-0.0817])"
            ]
          },
          "metadata": {},
          "execution_count": 38
        }
      ]
    },
    {
      "cell_type": "markdown",
      "source": [
        "# NeuralNetwork"
      ],
      "metadata": {
        "id": "swspVSDfRz07"
      }
    },
    {
      "cell_type": "markdown",
      "source": [
        "<img src=\"https://sebastianraschka.com/images/LLMs-from-scratch-images/appendix-a_compressed/9.webp\" width=\"500px\">"
      ],
      "metadata": {
        "id": "q3zTMJa5Tw0Y"
      }
    },
    {
      "cell_type": "code",
      "source": [
        "class NeuralNetwork(torch.nn.Module):\n",
        "    def __init__(self, input_size, output_size):\n",
        "        super(NeuralNetwork, self).__init__()\n",
        "        self.input_size = input_size\n",
        "        self.output_size = output_size\n",
        "        self.layers = torch.nn.Sequential(\n",
        "            # first layer\n",
        "            torch.nn.Linear(self.input_size, 30),\n",
        "            torch.nn.ReLU(),\n",
        "\n",
        "            # second layer\n",
        "            torch.nn.Linear(30, 20),\n",
        "            torch.nn.ReLU(),\n",
        "\n",
        "            # output layer\n",
        "            torch.nn.Linear(20, self.output_size),\n",
        "        )\n",
        "\n",
        "    def forward(self, x):\n",
        "        logits = self.layers(x) # outputs of last layers are called logits\n",
        "        return logits\n",
        "\n",
        "\n",
        "\n"
      ],
      "metadata": {
        "id": "rb6cOzceCDWF"
      },
      "execution_count": null,
      "outputs": []
    },
    {
      "cell_type": "code",
      "source": [
        "model = NeuralNetwork(input_size=50, output_size=3)\n",
        "print(model)"
      ],
      "metadata": {
        "colab": {
          "base_uri": "https://localhost:8080/"
        },
        "id": "0ouWRUDoTEkZ",
        "outputId": "9fb2c5b5-ea51-43d2-a90a-bc7e63dc947a"
      },
      "execution_count": null,
      "outputs": [
        {
          "output_type": "stream",
          "name": "stdout",
          "text": [
            "NeuralNetwork(\n",
            "  (layers): Sequential(\n",
            "    (0): Linear(in_features=50, out_features=30, bias=True)\n",
            "    (1): ReLU()\n",
            "    (2): Linear(in_features=30, out_features=20, bias=True)\n",
            "    (3): ReLU()\n",
            "    (4): Linear(in_features=20, out_features=3, bias=True)\n",
            "  )\n",
            ")\n"
          ]
        }
      ]
    },
    {
      "cell_type": "code",
      "source": [
        "[p.numel() for p in model.parameters() ]"
      ],
      "metadata": {
        "colab": {
          "base_uri": "https://localhost:8080/"
        },
        "id": "gV1g6uwlTV0C",
        "outputId": "24272b48-2ce6-4417-9cb1-922b5efbf933"
      },
      "execution_count": null,
      "outputs": [
        {
          "output_type": "execute_result",
          "data": {
            "text/plain": [
              "[1500, 30, 600, 20, 60, 3]"
            ]
          },
          "metadata": {},
          "execution_count": 41
        }
      ]
    },
    {
      "cell_type": "code",
      "source": [
        "[p.numel() for p in model.parameters() if p.requires_grad]"
      ],
      "metadata": {
        "colab": {
          "base_uri": "https://localhost:8080/"
        },
        "id": "-2cAMy2bUJyW",
        "outputId": "3362cd0b-e581-417e-dc48-31e3f789284f"
      },
      "execution_count": null,
      "outputs": [
        {
          "output_type": "execute_result",
          "data": {
            "text/plain": [
              "[1500, 30, 600, 20, 60, 3]"
            ]
          },
          "metadata": {},
          "execution_count": 42
        }
      ]
    },
    {
      "cell_type": "code",
      "source": [
        "[p for p in model.parameters() if p.requires_grad]"
      ],
      "metadata": {
        "id": "nIJLTJPNYCeC",
        "outputId": "596828f0-1ba4-47c3-e9b8-d497f8423a15",
        "colab": {
          "base_uri": "https://localhost:8080/"
        }
      },
      "execution_count": null,
      "outputs": [
        {
          "output_type": "execute_result",
          "data": {
            "text/plain": [
              "[Parameter containing:\n",
              " tensor([[-0.0808, -0.0824, -0.0365,  ..., -0.0199,  0.0257, -0.0194],\n",
              "         [-0.1117,  0.0209, -0.0512,  ..., -0.0116, -0.0783, -0.1375],\n",
              "         [ 0.1320,  0.1054, -0.0187,  ...,  0.1368, -0.1326,  0.0796],\n",
              "         ...,\n",
              "         [ 0.1066,  0.1250, -0.1092,  ...,  0.0645,  0.0209,  0.0207],\n",
              "         [ 0.0766,  0.0322, -0.0621,  ...,  0.1061,  0.0820, -0.0216],\n",
              "         [-0.1034, -0.0518,  0.1225,  ...,  0.0784,  0.0910, -0.0808]],\n",
              "        requires_grad=True),\n",
              " Parameter containing:\n",
              " tensor([ 0.0642, -0.0877, -0.0065,  0.0415, -0.1187, -0.0199,  0.1021,  0.0360,\n",
              "          0.0898,  0.0899, -0.0918,  0.0624,  0.0792, -0.0357, -0.0891, -0.0687,\n",
              "          0.0613, -0.0339,  0.1253, -0.1057, -0.0042,  0.1309, -0.0633, -0.0651,\n",
              "         -0.1215, -0.0318, -0.1096, -0.0131, -0.0563, -0.1032],\n",
              "        requires_grad=True),\n",
              " Parameter containing:\n",
              " tensor([[ 8.8508e-02, -1.7788e-01,  1.6722e-01, -1.2712e-01, -9.6625e-03,\n",
              "          -1.6247e-01,  1.5982e-01, -1.5673e-01,  7.7139e-02, -1.7196e-01,\n",
              "          -2.1938e-02, -7.7695e-02,  1.8065e-01, -1.4272e-02,  1.1971e-01,\n",
              "          -1.5249e-01,  1.1866e-01,  2.6845e-02, -3.4340e-02, -1.7574e-01,\n",
              "           7.4865e-02, -1.3281e-02, -1.8173e-01, -1.0933e-01, -1.0000e-01,\n",
              "           1.0080e-01, -1.4734e-01, -8.2134e-02, -1.9173e-02,  2.6096e-02],\n",
              "         [-1.3451e-01, -8.2372e-02, -5.3702e-02,  1.5106e-01, -8.1210e-02,\n",
              "           8.6542e-02,  9.7759e-02, -3.1244e-02,  9.9353e-03, -3.5397e-02,\n",
              "           7.0469e-03,  1.5940e-01,  1.7767e-01, -7.5098e-02, -2.1604e-02,\n",
              "           7.4721e-02, -9.7260e-02,  1.2229e-01, -1.0383e-02,  1.4934e-01,\n",
              "          -9.8043e-02, -6.3385e-02,  1.2725e-01, -5.1421e-02,  2.8949e-02,\n",
              "          -1.7156e-01, -1.1540e-01,  1.3721e-01, -8.1447e-02,  4.5579e-02],\n",
              "         [-5.8583e-03, -1.7470e-01, -1.3045e-02,  1.0317e-01, -8.7240e-02,\n",
              "           1.8239e-01, -9.6458e-04,  1.4495e-01, -2.9370e-02, -7.5915e-02,\n",
              "          -1.2536e-01, -4.3478e-03, -5.1846e-02, -1.5931e-01, -9.8165e-03,\n",
              "           1.4631e-02, -5.0621e-02,  4.7191e-02, -1.1650e-01,  5.1006e-02,\n",
              "           1.1020e-01, -1.4747e-01, -1.1289e-01, -1.7423e-01,  1.0251e-01,\n",
              "          -1.3248e-01, -1.2728e-02,  5.8386e-02, -8.6103e-02,  1.8248e-01],\n",
              "         [-8.6599e-03, -2.9272e-02,  1.4249e-01, -1.1580e-01, -1.0814e-01,\n",
              "           5.9243e-02, -1.7297e-01,  9.7378e-02,  9.4296e-02,  3.6759e-02,\n",
              "           1.0846e-01,  1.1929e-01,  9.0062e-05, -1.2685e-01, -1.7678e-01,\n",
              "          -2.3668e-02, -1.3347e-01, -5.6565e-02, -4.7033e-02, -1.0501e-02,\n",
              "           1.0177e-01, -1.7413e-01,  7.0739e-03, -1.5943e-01, -1.5074e-01,\n",
              "          -7.0870e-02,  6.5637e-02, -8.3198e-02, -2.4970e-02,  1.2067e-01],\n",
              "         [-1.5381e-02, -1.1907e-01,  3.7972e-02, -6.6246e-02, -8.7072e-02,\n",
              "           1.1113e-01,  7.9058e-02, -2.9648e-02, -8.6823e-02, -5.2993e-02,\n",
              "           1.1686e-02, -1.0526e-01,  5.0630e-02,  9.8791e-02,  1.7298e-02,\n",
              "          -1.6653e-01,  1.2254e-01, -1.8078e-01,  6.2912e-02,  9.1396e-02,\n",
              "          -1.1263e-01,  1.7874e-02, -5.2460e-02, -5.9869e-02, -1.4552e-01,\n",
              "          -4.5098e-02,  1.6556e-01, -5.7554e-02, -1.3574e-01,  5.0200e-02],\n",
              "         [-4.3320e-02,  2.1246e-03, -7.5997e-03, -1.4368e-01,  9.2223e-02,\n",
              "           1.1375e-01, -1.2727e-01, -1.7915e-01,  1.7241e-01,  7.4414e-02,\n",
              "          -8.3495e-02,  7.8155e-02, -1.5444e-01, -1.4911e-01, -5.4948e-02,\n",
              "          -1.5005e-01,  8.2260e-02,  7.1760e-03,  1.7830e-01,  3.3769e-02,\n",
              "           5.3754e-02, -1.5097e-01, -8.1138e-02, -9.3378e-02, -7.7115e-02,\n",
              "          -1.6765e-01,  8.0962e-03, -9.8893e-02, -1.0857e-01,  1.3080e-01],\n",
              "         [ 1.6656e-01, -1.4448e-01,  1.2557e-01,  1.1816e-01, -2.2497e-02,\n",
              "          -8.3048e-02, -1.2829e-01, -1.3921e-01, -8.7977e-02,  1.2121e-01,\n",
              "          -4.9714e-02, -3.3428e-03,  1.5293e-01, -1.7968e-01, -1.4629e-01,\n",
              "           9.9440e-02,  2.5402e-02, -1.7619e-01, -2.7775e-02, -5.8406e-02,\n",
              "          -9.3638e-02,  6.9135e-02, -9.1549e-02,  4.3002e-03, -1.5539e-01,\n",
              "           1.0412e-01,  1.3686e-01,  4.4417e-02,  8.6442e-02, -1.1791e-01],\n",
              "         [-1.1771e-02,  4.3291e-02,  1.6501e-01,  3.1835e-02, -9.6520e-02,\n",
              "          -1.8403e-02, -1.6675e-01, -3.4566e-02,  3.8451e-02, -1.5995e-01,\n",
              "          -1.4841e-01,  1.6033e-01,  1.5944e-01,  8.6528e-02,  1.5204e-02,\n",
              "          -1.4667e-01,  8.0212e-02,  1.0445e-01,  1.3764e-01,  6.4442e-02,\n",
              "           1.1895e-01, -5.5842e-02,  1.5084e-01,  2.5217e-02,  7.5954e-02,\n",
              "           1.3205e-01,  1.6481e-01,  7.1288e-02,  7.4121e-02,  2.6513e-02],\n",
              "         [ 7.0653e-02, -8.6683e-02,  6.5326e-02, -9.7743e-02, -1.5520e-01,\n",
              "           1.1015e-01, -4.4454e-02,  1.6877e-01,  1.3851e-01,  1.1994e-01,\n",
              "          -1.7683e-01, -4.8508e-02,  1.0295e-01, -8.1477e-03, -5.2005e-02,\n",
              "          -6.3628e-02,  6.5096e-02,  7.5219e-02, -7.8731e-02,  1.3963e-01,\n",
              "          -8.8815e-02,  1.5207e-01,  1.6367e-01, -6.0978e-02, -7.4041e-02,\n",
              "           1.8192e-01,  4.8629e-02,  1.1986e-01,  1.3000e-01, -1.8617e-02],\n",
              "         [ 1.1106e-01,  1.2132e-01, -1.8214e-01,  2.3191e-02,  1.6340e-01,\n",
              "          -1.7401e-02,  1.5167e-01, -8.5084e-03, -1.1500e-01, -6.7690e-02,\n",
              "          -3.1156e-02,  1.4449e-02,  1.2857e-01, -3.6371e-02, -1.2756e-01,\n",
              "          -3.1112e-02, -8.7627e-02, -3.9406e-02, -1.0221e-01, -1.4942e-01,\n",
              "          -6.3038e-02,  7.4107e-02, -1.1353e-01,  2.6844e-02,  5.7366e-02,\n",
              "          -1.4736e-02, -4.1244e-02,  1.2217e-02, -1.0198e-01, -1.6471e-01],\n",
              "         [-7.9225e-02,  1.8104e-01,  7.5191e-03, -1.6287e-01,  6.5317e-02,\n",
              "          -4.1119e-02,  5.3913e-02, -4.6809e-02, -7.3773e-02, -1.1489e-01,\n",
              "          -7.7199e-03,  1.2807e-02,  1.6166e-01, -1.0926e-01,  1.0290e-01,\n",
              "          -1.6139e-01, -3.2379e-02,  4.6437e-02,  1.5230e-01, -1.4343e-01,\n",
              "          -2.8384e-02, -9.0708e-02, -1.3571e-01,  4.2798e-02, -1.3369e-01,\n",
              "          -4.2462e-02,  1.1882e-01,  7.5560e-02,  1.6916e-01,  4.8628e-02],\n",
              "         [ 3.9503e-02,  1.2517e-01, -1.3554e-01, -4.6256e-02, -5.6384e-02,\n",
              "          -1.7162e-01, -1.7861e-01, -1.2033e-01, -1.6189e-01, -1.7297e-01,\n",
              "          -8.3609e-02,  3.0338e-02,  1.6676e-01,  1.6309e-01, -6.5402e-02,\n",
              "          -1.3241e-01,  6.4112e-02, -1.4882e-01,  1.2418e-01,  9.5818e-02,\n",
              "           4.0287e-02,  9.3989e-02,  3.1115e-02, -1.2411e-01, -1.2084e-01,\n",
              "           1.0171e-01, -1.6899e-01, -7.2148e-02,  1.2387e-01, -1.0439e-01],\n",
              "         [ 3.9337e-02,  2.0315e-02, -1.1483e-02, -1.4081e-01, -1.7394e-01,\n",
              "          -5.3595e-03, -1.2780e-01,  1.5888e-02, -7.2647e-02, -2.0408e-02,\n",
              "          -1.2740e-01,  2.0908e-02,  2.0690e-02, -1.6206e-01, -1.6141e-01,\n",
              "          -1.1206e-01,  6.3654e-03,  8.9447e-02, -1.6920e-01, -1.2364e-01,\n",
              "           4.1331e-02, -1.9302e-02,  1.2200e-01, -1.6880e-01, -1.3544e-01,\n",
              "           8.5973e-02,  5.0296e-02, -1.5678e-01, -1.7666e-01, -7.7628e-03],\n",
              "         [ 1.7857e-02, -5.0309e-02,  5.0758e-02, -1.1655e-01, -1.1163e-01,\n",
              "          -4.9834e-02, -1.3634e-01,  1.6055e-01,  5.4303e-02,  1.7731e-01,\n",
              "           1.2523e-01,  4.9499e-02,  1.6983e-01, -1.7298e-01, -1.2779e-01,\n",
              "           5.4760e-02, -3.9576e-02,  6.5442e-02,  1.2301e-01, -8.9092e-02,\n",
              "           1.8857e-02, -1.6842e-01, -1.8083e-01, -1.6432e-01,  7.1050e-02,\n",
              "          -1.7702e-01,  1.1719e-01,  4.5940e-02, -6.0494e-02, -1.7651e-01],\n",
              "         [-1.3244e-01, -1.3611e-01,  1.6091e-01,  1.3848e-01,  9.9627e-03,\n",
              "           6.2977e-02,  7.3517e-02, -1.6300e-01,  1.5465e-01, -4.1503e-02,\n",
              "          -1.3969e-01, -6.5015e-04, -4.0366e-02, -1.1835e-01, -2.1605e-03,\n",
              "          -1.6828e-01,  1.7348e-01,  7.0343e-02,  1.4269e-02, -5.1303e-02,\n",
              "           1.6536e-02, -1.4095e-02, -9.3728e-02,  3.3777e-02,  1.2549e-01,\n",
              "          -9.3170e-02,  1.0599e-01,  1.4705e-01, -3.6619e-02,  7.3524e-02],\n",
              "         [-1.3737e-01, -1.3443e-01,  7.6987e-02,  8.1074e-02,  6.1937e-02,\n",
              "           6.2142e-02, -1.0514e-01, -3.9192e-02,  3.3111e-02, -6.3206e-02,\n",
              "           7.5093e-02, -1.0928e-01,  1.6682e-01,  4.3768e-02, -2.9635e-03,\n",
              "           1.4534e-01, -1.4685e-01,  6.7474e-04, -2.5365e-02,  8.2905e-02,\n",
              "          -1.4736e-01,  1.5764e-01, -6.5475e-02,  1.7273e-01,  1.0395e-01,\n",
              "           1.7190e-01,  1.3134e-01,  1.1417e-01,  4.7276e-02,  1.7391e-01],\n",
              "         [ 9.9961e-02, -1.3996e-01, -1.5379e-01, -8.3433e-02,  1.2920e-01,\n",
              "           7.2158e-02, -1.3403e-01, -1.4062e-01,  1.7906e-04,  1.3395e-01,\n",
              "          -4.0812e-02,  1.4960e-01,  3.7097e-03, -1.7215e-01,  9.4159e-02,\n",
              "          -4.6807e-02, -7.2452e-02,  1.2385e-01,  1.1876e-01, -1.6843e-01,\n",
              "           1.2997e-01,  1.0028e-01,  1.1545e-01,  1.3246e-01,  1.3529e-01,\n",
              "           6.9338e-02,  4.9604e-02, -1.4864e-03,  2.1978e-02, -1.0628e-01],\n",
              "         [-1.9163e-02,  1.8190e-01, -1.7369e-01,  1.0999e-01,  3.0304e-02,\n",
              "          -1.3037e-02, -1.8020e-01,  1.4807e-01, -8.9170e-02, -8.1808e-02,\n",
              "          -5.0367e-02, -4.8465e-02, -3.8754e-02, -1.2179e-02, -1.2496e-01,\n",
              "          -1.0232e-01,  1.4748e-01,  4.6891e-02,  1.0002e-01, -1.6561e-01,\n",
              "          -1.5068e-01,  1.5882e-01,  6.4057e-02,  1.2415e-01, -1.4432e-01,\n",
              "          -1.7737e-01, -8.3358e-03,  7.4096e-02, -3.3656e-02,  2.4965e-02],\n",
              "         [ 9.6636e-02,  4.5053e-02,  1.7344e-01,  2.2714e-02, -1.1318e-02,\n",
              "          -1.0230e-02, -1.4399e-01, -1.2629e-01, -1.2271e-01, -4.4638e-03,\n",
              "           1.3486e-01,  1.4410e-01, -1.0409e-01, -6.8390e-02,  4.9616e-02,\n",
              "           9.0836e-02,  1.4323e-01, -1.4379e-01, -4.9902e-02,  5.7939e-02,\n",
              "          -1.4802e-02,  9.8232e-02,  3.0831e-02, -8.5176e-02,  1.3748e-01,\n",
              "           8.1705e-02,  1.4347e-01,  1.4057e-01, -6.0679e-02, -2.5104e-02],\n",
              "         [ 1.4114e-01, -7.9738e-02, -2.5383e-02,  9.2493e-02,  1.0047e-01,\n",
              "          -1.2529e-01,  4.8312e-02,  1.3802e-02,  1.5815e-01, -1.7588e-01,\n",
              "           3.3340e-02,  1.2431e-01,  1.0043e-01,  2.6874e-02, -1.7483e-01,\n",
              "          -8.9866e-02, -1.4941e-01, -1.7227e-02, -1.1474e-04,  1.6046e-01,\n",
              "           8.4221e-02,  1.2174e-01,  1.5034e-01,  1.1621e-02,  4.6061e-02,\n",
              "           3.1722e-02,  3.0178e-02,  2.0227e-02, -1.1268e-01, -1.5377e-01]],\n",
              "        requires_grad=True),\n",
              " Parameter containing:\n",
              " tensor([ 0.1281,  0.0362,  0.1802,  0.1528,  0.0181, -0.1688,  0.0285, -0.1218,\n",
              "          0.1363,  0.1165,  0.1456, -0.0911, -0.1165, -0.0200, -0.1765, -0.0740,\n",
              "          0.0891,  0.1519,  0.0088,  0.1624], requires_grad=True),\n",
              " Parameter containing:\n",
              " tensor([[-0.0486,  0.0589,  0.0406, -0.1092,  0.0048,  0.1249, -0.1068, -0.0728,\n",
              "          -0.2015, -0.0734, -0.1706,  0.0465, -0.1248, -0.1710,  0.2001, -0.0454,\n",
              "          -0.1445, -0.0518,  0.0861,  0.0565],\n",
              "         [ 0.0762,  0.1245, -0.0491, -0.0748, -0.0051, -0.0445, -0.0315, -0.1917,\n",
              "           0.0931,  0.1413, -0.1956,  0.1990,  0.0482,  0.1708, -0.2172,  0.0160,\n",
              "           0.2058,  0.0102, -0.0722,  0.1997],\n",
              "         [-0.0997, -0.0263, -0.0204, -0.1693, -0.0180,  0.0143,  0.0794,  0.0592,\n",
              "           0.0640, -0.1971, -0.0017,  0.0804, -0.0296, -0.0541, -0.1891, -0.0546,\n",
              "          -0.0411, -0.2053,  0.1146,  0.1314]], requires_grad=True),\n",
              " Parameter containing:\n",
              " tensor([ 0.0851,  0.0794, -0.1574], requires_grad=True)]"
            ]
          },
          "metadata": {},
          "execution_count": 43
        }
      ]
    },
    {
      "cell_type": "code",
      "source": [
        "# number of trainable parameters\n",
        "sum([p.numel() for p in model.parameters() if p.requires_grad])"
      ],
      "metadata": {
        "colab": {
          "base_uri": "https://localhost:8080/"
        },
        "id": "pbIP_WKwUbZ1",
        "outputId": "c341821a-d5b8-46eb-a6b9-ac08e7cf14e3"
      },
      "execution_count": null,
      "outputs": [
        {
          "output_type": "execute_result",
          "data": {
            "text/plain": [
              "2213"
            ]
          },
          "metadata": {},
          "execution_count": 44
        }
      ]
    },
    {
      "cell_type": "code",
      "source": [
        "model.layers[0].weight"
      ],
      "metadata": {
        "colab": {
          "base_uri": "https://localhost:8080/"
        },
        "id": "m6cNehQNUhx6",
        "outputId": "af013708-a1b5-41b8-b8af-6c29064ad1ed"
      },
      "execution_count": null,
      "outputs": [
        {
          "output_type": "execute_result",
          "data": {
            "text/plain": [
              "Parameter containing:\n",
              "tensor([[-0.0808, -0.0824, -0.0365,  ..., -0.0199,  0.0257, -0.0194],\n",
              "        [-0.1117,  0.0209, -0.0512,  ..., -0.0116, -0.0783, -0.1375],\n",
              "        [ 0.1320,  0.1054, -0.0187,  ...,  0.1368, -0.1326,  0.0796],\n",
              "        ...,\n",
              "        [ 0.1066,  0.1250, -0.1092,  ...,  0.0645,  0.0209,  0.0207],\n",
              "        [ 0.0766,  0.0322, -0.0621,  ...,  0.1061,  0.0820, -0.0216],\n",
              "        [-0.1034, -0.0518,  0.1225,  ...,  0.0784,  0.0910, -0.0808]],\n",
              "       requires_grad=True)"
            ]
          },
          "metadata": {},
          "execution_count": 45
        }
      ]
    },
    {
      "cell_type": "code",
      "source": [
        "model.layers[0].weight.shape"
      ],
      "metadata": {
        "colab": {
          "base_uri": "https://localhost:8080/"
        },
        "id": "oSlphKQOU3Tq",
        "outputId": "2081dcd4-c26c-47ab-c829-7d330b7a058d"
      },
      "execution_count": null,
      "outputs": [
        {
          "output_type": "execute_result",
          "data": {
            "text/plain": [
              "torch.Size([30, 50])"
            ]
          },
          "metadata": {},
          "execution_count": 46
        }
      ]
    },
    {
      "cell_type": "code",
      "source": [
        "model.layers[0].bias"
      ],
      "metadata": {
        "colab": {
          "base_uri": "https://localhost:8080/"
        },
        "id": "FWOj6VuBU6mp",
        "outputId": "755aedcb-2cbb-496a-a30b-8f7751ff97c9"
      },
      "execution_count": null,
      "outputs": [
        {
          "output_type": "execute_result",
          "data": {
            "text/plain": [
              "Parameter containing:\n",
              "tensor([ 0.0642, -0.0877, -0.0065,  0.0415, -0.1187, -0.0199,  0.1021,  0.0360,\n",
              "         0.0898,  0.0899, -0.0918,  0.0624,  0.0792, -0.0357, -0.0891, -0.0687,\n",
              "         0.0613, -0.0339,  0.1253, -0.1057, -0.0042,  0.1309, -0.0633, -0.0651,\n",
              "        -0.1215, -0.0318, -0.1096, -0.0131, -0.0563, -0.1032],\n",
              "       requires_grad=True)"
            ]
          },
          "metadata": {},
          "execution_count": 47
        }
      ]
    },
    {
      "cell_type": "code",
      "source": [
        "model.layers[0].bias.shape"
      ],
      "metadata": {
        "colab": {
          "base_uri": "https://localhost:8080/"
        },
        "id": "ClIO_OELVEm6",
        "outputId": "8f3c06da-a294-4359-e205-97ca0ef69eb9"
      },
      "execution_count": null,
      "outputs": [
        {
          "output_type": "execute_result",
          "data": {
            "text/plain": [
              "torch.Size([30])"
            ]
          },
          "metadata": {},
          "execution_count": 48
        }
      ]
    },
    {
      "cell_type": "markdown",
      "source": [
        "## Try the model"
      ],
      "metadata": {
        "id": "MrPkZ_x6WLBM"
      }
    },
    {
      "cell_type": "code",
      "source": [
        "torch.manual_seed(123)\n",
        "X = torch.randn(1, 50)\n",
        "print(X)"
      ],
      "metadata": {
        "colab": {
          "base_uri": "https://localhost:8080/"
        },
        "id": "ZmLMbUdLVKX6",
        "outputId": "14a8241b-d2e0-44b2-f278-81ac6361d9dc"
      },
      "execution_count": null,
      "outputs": [
        {
          "output_type": "stream",
          "name": "stdout",
          "text": [
            "tensor([[ 0.3374, -0.1778, -0.3035, -0.5880,  0.3486,  0.6603, -0.2196, -0.3792,\n",
            "          0.7671, -1.1925,  0.6984, -1.4097,  0.1794,  1.8951,  0.4954,  0.2692,\n",
            "         -0.0770, -1.0205, -0.1690,  0.9178,  1.5810,  1.3010,  1.2753, -0.2010,\n",
            "          0.4965, -1.5723,  0.9666, -1.1481, -1.1589,  0.3255, -0.6315, -2.8400,\n",
            "         -1.3250,  0.1784, -1.4779,  1.1331, -1.2203,  1.3139,  1.0533,  0.1388,\n",
            "         -0.2044, -2.2685, -0.2808,  0.7697, -0.6596, -0.7979,  0.1838,  0.2293,\n",
            "          0.6177, -0.2876]])\n"
          ]
        }
      ]
    },
    {
      "cell_type": "code",
      "source": [
        "out = model(X)\n",
        "out"
      ],
      "metadata": {
        "colab": {
          "base_uri": "https://localhost:8080/"
        },
        "id": "hsycnrBCWQeS",
        "outputId": "ef1b6365-7cd7-4376-aa62-3384aed3a9d8"
      },
      "execution_count": null,
      "outputs": [
        {
          "output_type": "execute_result",
          "data": {
            "text/plain": [
              "tensor([[-0.1178,  0.1198, -0.1133]], grad_fn=<AddmmBackward0>)"
            ]
          },
          "metadata": {},
          "execution_count": 50
        }
      ]
    },
    {
      "cell_type": "markdown",
      "source": [
        "\n",
        "# Data Loaders"
      ],
      "metadata": {
        "id": "Gl3ub-VXsMOJ"
      }
    },
    {
      "cell_type": "markdown",
      "source": [
        "## Create Datasets"
      ],
      "metadata": {
        "id": "L7clP4AvLzXv"
      }
    },
    {
      "cell_type": "markdown",
      "source": [
        "<img src=\"https://sebastianraschka.com/images/LLMs-from-scratch-images/appendix-a_compressed/10.webp\" width=\"600px\">"
      ],
      "metadata": {
        "id": "USU0V4BrUEwj"
      }
    },
    {
      "cell_type": "code",
      "source": [
        "X_train = torch.tensor([[-1.2, 3.1], [-0.9, 2.9], [-0.5, 2.6], [2.3, -1.1], [2.7, -1.5]])\n",
        "y_train = torch.tensor([0, 0, 0, 1, 1])\n",
        "\n",
        "X_test = torch.tensor([[-0.8, 2.8], [2.6, -1.6]])\n",
        "y_test = torch.tensor([0, 1])\n",
        "\n"
      ],
      "metadata": {
        "id": "Mfr_6YeOB3Zz"
      },
      "execution_count": null,
      "outputs": []
    },
    {
      "cell_type": "code",
      "source": [
        "from torch.utils.data import Dataset\n",
        "\n",
        "class ToyDataset(Dataset):\n",
        "    def __init__(self, X, y):\n",
        "        self.X = X\n",
        "        self.y = y\n",
        "\n",
        "    def __len__(self):\n",
        "        return len(self.X)\n",
        "\n",
        "    def __getitem__(self, index):\n",
        "        return self.X[index], self.y[index]\n"
      ],
      "metadata": {
        "id": "Cop9pjQmCbzm"
      },
      "execution_count": null,
      "outputs": []
    },
    {
      "cell_type": "code",
      "source": [
        "train_ds = ToyDataset(X_train, y_train)\n",
        "test_ds = ToyDataset(X_test, y_test)\n",
        "train_ds"
      ],
      "metadata": {
        "colab": {
          "base_uri": "https://localhost:8080/"
        },
        "id": "gGrrkKKcD8yu",
        "outputId": "8d921003-e61f-4088-cd3f-48303581ed40"
      },
      "execution_count": null,
      "outputs": [
        {
          "output_type": "execute_result",
          "data": {
            "text/plain": [
              "<__main__.ToyDataset at 0x7e96ca408b20>"
            ]
          },
          "metadata": {},
          "execution_count": 54
        }
      ]
    },
    {
      "cell_type": "markdown",
      "source": [
        "## Create Dataloaders"
      ],
      "metadata": {
        "id": "u5BTetYCL2Jp"
      }
    },
    {
      "cell_type": "code",
      "source": [
        "from torch.utils.data import DataLoader\n",
        "\n",
        "train_dl = DataLoader(train_ds, batch_size=2, shuffle=True, num_workers=0, drop_last=True)\n",
        "test_dl = DataLoader(test_ds, batch_size=2)"
      ],
      "metadata": {
        "id": "Db3J5ETFEBOA"
      },
      "execution_count": null,
      "outputs": []
    },
    {
      "cell_type": "code",
      "source": [
        "for batch in train_dl:\n",
        "    print(batch)"
      ],
      "metadata": {
        "colab": {
          "base_uri": "https://localhost:8080/"
        },
        "id": "uDGXvCtAMKQo",
        "outputId": "61fdc095-2475-4868-e3dc-aafcfe4235c5"
      },
      "execution_count": null,
      "outputs": [
        {
          "output_type": "stream",
          "name": "stdout",
          "text": [
            "[tensor([[-1.2000,  3.1000],\n",
            "        [ 2.3000, -1.1000]]), tensor([0, 1])]\n",
            "[tensor([[-0.9000,  2.9000],\n",
            "        [ 2.7000, -1.5000]]), tensor([0, 1])]\n"
          ]
        }
      ]
    },
    {
      "cell_type": "markdown",
      "source": [
        "## Training Loop"
      ],
      "metadata": {
        "id": "zUACKAj4POEW"
      }
    },
    {
      "cell_type": "code",
      "source": [
        "import torch\n",
        "import torch.nn.functional as F\n",
        "from torch.autograd import grad\n",
        "from torch.utils.data import Dataset, DataLoader"
      ],
      "metadata": {
        "id": "ZHbSepYiPRGb"
      },
      "execution_count": null,
      "outputs": []
    },
    {
      "cell_type": "code",
      "source": [
        "torch.manual_seed(123)\n",
        "model = NeuralNetwork(input_size=2, output_size=2)\n",
        "loss_fn = torch.nn.CrossEntropyLoss()\n",
        "optimizer = torch.optim.SGD(model.parameters(), lr=0.5)"
      ],
      "metadata": {
        "id": "eRXwsrZMPgkN"
      },
      "execution_count": null,
      "outputs": []
    },
    {
      "cell_type": "code",
      "source": [
        "num_epochs = 3\n",
        "for epoch in range(num_epochs):\n",
        "    model.train()\n",
        "    for idx, (features, labels) in enumerate(train_dl):\n",
        "        y_pred = model(features)\n",
        "        loss = F.cross_entropy(y_pred, labels)\n",
        "        optimizer.zero_grad()\n",
        "        loss.backward()\n",
        "        optimizer.step()\n",
        "        print(f\"\\tEpoch: {epoch}, Batch: {idx}, Loss: {loss.item()}\")\n",
        "    model.eval()\n",
        "    with torch.no_grad():\n",
        "        for idx, (features, labels) in enumerate(test_dl):\n",
        "            y_pred = model(features)\n",
        "            loss = loss_fn(y_pred, labels)\n",
        "            print(f\"Epoch: {epoch}, Batch: {idx}, Loss: {loss.item()}\")"
      ],
      "metadata": {
        "id": "vuF94MoyP5e2",
        "colab": {
          "base_uri": "https://localhost:8080/"
        },
        "outputId": "d0802a4a-3b93-488c-d83b-6d905d21bcae"
      },
      "execution_count": null,
      "outputs": [
        {
          "output_type": "stream",
          "name": "stdout",
          "text": [
            "\tEpoch: 0, Batch: 0, Loss: 0.7487356662750244\n",
            "\tEpoch: 0, Batch: 1, Loss: 0.6450306177139282\n",
            "Epoch: 0, Batch: 0, Loss: 0.25006431341171265\n",
            "\tEpoch: 1, Batch: 0, Loss: 0.253987193107605\n",
            "\tEpoch: 1, Batch: 1, Loss: 0.11282707750797272\n",
            "Epoch: 1, Batch: 0, Loss: 0.04952475428581238\n",
            "\tEpoch: 2, Batch: 0, Loss: 0.057810522615909576\n",
            "\tEpoch: 2, Batch: 1, Loss: 0.03357567638158798\n",
            "Epoch: 2, Batch: 0, Loss: 0.016697168350219727\n"
          ]
        }
      ]
    },
    {
      "cell_type": "markdown",
      "source": [
        "## Evaluation"
      ],
      "metadata": {
        "id": "IUOGdvP45BCi"
      }
    },
    {
      "cell_type": "code",
      "source": [
        "model.eval()\n",
        "with torch.no_grad():\n",
        "    outputs = model(X_train)\n",
        "    print(outputs)\n",
        "    _, predicted = torch.max(outputs, 1)\n",
        "    print(predicted)"
      ],
      "metadata": {
        "id": "SLc0GzONUMXP",
        "colab": {
          "base_uri": "https://localhost:8080/"
        },
        "outputId": "b8b22746-c649-4f81-efef-3956e83950c7"
      },
      "execution_count": null,
      "outputs": [
        {
          "output_type": "stream",
          "name": "stdout",
          "text": [
            "tensor([[ 2.0769, -3.2128],\n",
            "        [ 1.8213, -2.8764],\n",
            "        [ 1.4636, -2.4074],\n",
            "        [-1.6386,  1.6361],\n",
            "        [-1.9006,  1.9140]])\n",
            "tensor([0, 0, 0, 1, 1])\n"
          ]
        }
      ]
    },
    {
      "cell_type": "code",
      "source": [
        "probas = torch.softmax(outputs, dim=1)\n",
        "print(probas)"
      ],
      "metadata": {
        "id": "lCwJcGW46IJF",
        "colab": {
          "base_uri": "https://localhost:8080/"
        },
        "outputId": "f3dd4be9-0729-4153-a1bb-71eb37370a3c"
      },
      "execution_count": null,
      "outputs": [
        {
          "output_type": "stream",
          "name": "stdout",
          "text": [
            "tensor([[0.9950, 0.0050],\n",
            "        [0.9910, 0.0090],\n",
            "        [0.9796, 0.0204],\n",
            "        [0.0364, 0.9636],\n",
            "        [0.0216, 0.9784]])\n"
          ]
        }
      ]
    },
    {
      "cell_type": "code",
      "source": [
        "predictions = torch.argmax(probas, dim=1)\n",
        "print(predictions)"
      ],
      "metadata": {
        "id": "3bYBSL3X64QX",
        "colab": {
          "base_uri": "https://localhost:8080/"
        },
        "outputId": "4c3f6774-29ad-4297-d463-311298f6fa1b"
      },
      "execution_count": null,
      "outputs": [
        {
          "output_type": "stream",
          "name": "stdout",
          "text": [
            "tensor([0, 0, 0, 1, 1])\n"
          ]
        }
      ]
    },
    {
      "cell_type": "code",
      "source": [
        "predictions == y_train"
      ],
      "metadata": {
        "id": "WbrgtMxF6-Yt",
        "colab": {
          "base_uri": "https://localhost:8080/"
        },
        "outputId": "95aa8655-d3e6-483f-99cf-80bd4ad2f4ff"
      },
      "execution_count": null,
      "outputs": [
        {
          "output_type": "execute_result",
          "data": {
            "text/plain": [
              "tensor([True, True, True, True, True])"
            ]
          },
          "metadata": {},
          "execution_count": 63
        }
      ]
    },
    {
      "cell_type": "code",
      "source": [
        "def compute_accuracy(model, dataloader):\n",
        "    model.eval()\n",
        "    correct = 0\n",
        "    total = 0\n",
        "    with torch.no_grad():\n",
        "        for idx, (features, labels) in enumerate(dataloader):\n",
        "            outputs = model(features)\n",
        "            _, predicted = torch.max(outputs, 1)\n",
        "            total += labels.size(0)\n",
        "            correct += (predicted == labels).sum().item()\n",
        "    return correct / total\n",
        "\n",
        "compute_accuracy(model, train_dl)"
      ],
      "metadata": {
        "id": "SB3QBhJm7Pgb",
        "colab": {
          "base_uri": "https://localhost:8080/"
        },
        "outputId": "e47106d9-cc9c-4f12-fd25-69f2f2ff55d9"
      },
      "execution_count": null,
      "outputs": [
        {
          "output_type": "execute_result",
          "data": {
            "text/plain": [
              "1.0"
            ]
          },
          "metadata": {},
          "execution_count": 64
        }
      ]
    },
    {
      "cell_type": "code",
      "source": [
        "compute_accuracy(model, test_dl)"
      ],
      "metadata": {
        "id": "OwevOgSm7sa2",
        "colab": {
          "base_uri": "https://localhost:8080/"
        },
        "outputId": "c1c8e2ec-0092-4e60-eaad-6005e899fa35"
      },
      "execution_count": null,
      "outputs": [
        {
          "output_type": "execute_result",
          "data": {
            "text/plain": [
              "1.0"
            ]
          },
          "metadata": {},
          "execution_count": 65
        }
      ]
    },
    {
      "cell_type": "markdown",
      "source": [
        "## Save Model"
      ],
      "metadata": {
        "id": "dJvaHCfp8hfP"
      }
    },
    {
      "cell_type": "code",
      "source": [
        "torch.save(model.state_dict(), 'model.pth')\n",
        "!ls -alh"
      ],
      "metadata": {
        "id": "9b7oJJCL70xG",
        "colab": {
          "base_uri": "https://localhost:8080/"
        },
        "outputId": "53602982-ca02-4c24-8033-277b79f58e1e"
      },
      "execution_count": null,
      "outputs": [
        {
          "output_type": "stream",
          "name": "stdout",
          "text": [
            "total 24K\n",
            "drwxr-xr-x 1 root root 4.0K Dec 10 01:52 .\n",
            "drwxr-xr-x 1 root root 4.0K Dec 10 01:47 ..\n",
            "drwxr-xr-x 4 root root 4.0K Dec  6 14:21 .config\n",
            "-rw-r--r-- 1 root root 5.4K Dec 10 01:52 model.pth\n",
            "drwxr-xr-x 1 root root 4.0K Dec  6 14:22 sample_data\n"
          ]
        }
      ]
    },
    {
      "cell_type": "markdown",
      "source": [
        "## Load Model"
      ],
      "metadata": {
        "id": "B-Z88Wkz85TU"
      }
    },
    {
      "cell_type": "code",
      "source": [
        "model.load_state_dict(torch.load('model.pth'))\n",
        "model"
      ],
      "metadata": {
        "id": "VKYKG2o-80nE",
        "colab": {
          "base_uri": "https://localhost:8080/"
        },
        "outputId": "8972eca2-36fb-4b46-9c0b-10e997c91c16"
      },
      "execution_count": null,
      "outputs": [
        {
          "output_type": "stream",
          "name": "stderr",
          "text": [
            "<ipython-input-68-899586179785>:1: FutureWarning: You are using `torch.load` with `weights_only=False` (the current default value), which uses the default pickle module implicitly. It is possible to construct malicious pickle data which will execute arbitrary code during unpickling (See https://github.com/pytorch/pytorch/blob/main/SECURITY.md#untrusted-models for more details). In a future release, the default value for `weights_only` will be flipped to `True`. This limits the functions that could be executed during unpickling. Arbitrary objects will no longer be allowed to be loaded via this mode unless they are explicitly allowlisted by the user via `torch.serialization.add_safe_globals`. We recommend you start setting `weights_only=True` for any use case where you don't have full control of the loaded file. Please open an issue on GitHub for any issues related to this experimental feature.\n",
            "  model.load_state_dict(torch.load('model.pth'))\n"
          ]
        },
        {
          "output_type": "execute_result",
          "data": {
            "text/plain": [
              "NeuralNetwork(\n",
              "  (layers): Sequential(\n",
              "    (0): Linear(in_features=2, out_features=30, bias=True)\n",
              "    (1): ReLU()\n",
              "    (2): Linear(in_features=30, out_features=20, bias=True)\n",
              "    (3): ReLU()\n",
              "    (4): Linear(in_features=20, out_features=2, bias=True)\n",
              "  )\n",
              ")"
            ]
          },
          "metadata": {},
          "execution_count": 68
        }
      ]
    },
    {
      "cell_type": "code",
      "source": [],
      "metadata": {
        "id": "6YGyHoCw9AtQ"
      },
      "execution_count": null,
      "outputs": []
    }
  ]
}